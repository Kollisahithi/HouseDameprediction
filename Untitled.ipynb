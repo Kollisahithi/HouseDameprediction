{
 "cells": [
  {
   "cell_type": "code",
   "execution_count": 8,
   "metadata": {},
   "outputs": [],
   "source": [
    "import numpy as np\n",
    "import os\n",
    "import pandas as pd\n",
    "%matplotlib inline\n",
    "import matplotlib\n",
    "import matplotlib.pyplot as plt"
   ]
  },
  {
   "cell_type": "code",
   "execution_count": 9,
   "metadata": {},
   "outputs": [
    {
     "name": "stdout",
     "output_type": "stream",
     "text": [
      "<class 'pandas.core.frame.DataFrame'>\n",
      "RangeIndex: 631761 entries, 0 to 631760\n",
      "Data columns (total 14 columns):\n",
      "area_assesed                             631761 non-null object\n",
      "building_id                              631761 non-null object\n",
      "damage_grade                             631761 non-null object\n",
      "district_id                              631761 non-null int64\n",
      "has_geotechnical_risk                    631761 non-null float64\n",
      "has_geotechnical_risk_fault_crack        631761 non-null int64\n",
      "has_geotechnical_risk_flood              631761 non-null int64\n",
      "has_geotechnical_risk_land_settlement    631761 non-null int64\n",
      "has_geotechnical_risk_landslide          631761 non-null int64\n",
      "has_geotechnical_risk_liquefaction       631761 non-null int64\n",
      "has_geotechnical_risk_other              631761 non-null int64\n",
      "has_geotechnical_risk_rock_fall          631761 non-null int64\n",
      "has_repair_started                       598344 non-null float64\n",
      "vdcmun_id                                631761 non-null int64\n",
      "dtypes: float64(2), int64(9), object(3)\n",
      "memory usage: 67.5+ MB\n"
     ]
    }
   ],
   "source": [
    "train = pd.read_csv(\"train.csv\")\n",
    "train.info()"
   ]
  },
  {
   "cell_type": "code",
   "execution_count": 10,
   "metadata": {},
   "outputs": [
    {
     "data": {
      "text/html": [
       "<div>\n",
       "<style scoped>\n",
       "    .dataframe tbody tr th:only-of-type {\n",
       "        vertical-align: middle;\n",
       "    }\n",
       "\n",
       "    .dataframe tbody tr th {\n",
       "        vertical-align: top;\n",
       "    }\n",
       "\n",
       "    .dataframe thead th {\n",
       "        text-align: right;\n",
       "    }\n",
       "</style>\n",
       "<table border=\"1\" class=\"dataframe\">\n",
       "  <thead>\n",
       "    <tr style=\"text-align: right;\">\n",
       "      <th></th>\n",
       "      <th>area_assesed</th>\n",
       "      <th>building_id</th>\n",
       "      <th>damage_grade</th>\n",
       "      <th>district_id</th>\n",
       "      <th>has_geotechnical_risk</th>\n",
       "      <th>has_geotechnical_risk_fault_crack</th>\n",
       "      <th>has_geotechnical_risk_flood</th>\n",
       "      <th>has_geotechnical_risk_land_settlement</th>\n",
       "      <th>has_geotechnical_risk_landslide</th>\n",
       "      <th>has_geotechnical_risk_liquefaction</th>\n",
       "      <th>has_geotechnical_risk_other</th>\n",
       "      <th>has_geotechnical_risk_rock_fall</th>\n",
       "      <th>has_repair_started</th>\n",
       "      <th>vdcmun_id</th>\n",
       "    </tr>\n",
       "  </thead>\n",
       "  <tbody>\n",
       "    <tr>\n",
       "      <th>0</th>\n",
       "      <td>Both</td>\n",
       "      <td>24385bfd2a2</td>\n",
       "      <td>Grade 4</td>\n",
       "      <td>24</td>\n",
       "      <td>0.0</td>\n",
       "      <td>0</td>\n",
       "      <td>0</td>\n",
       "      <td>0</td>\n",
       "      <td>0</td>\n",
       "      <td>0</td>\n",
       "      <td>0</td>\n",
       "      <td>0</td>\n",
       "      <td>0.0</td>\n",
       "      <td>2489</td>\n",
       "    </tr>\n",
       "    <tr>\n",
       "      <th>1</th>\n",
       "      <td>Both</td>\n",
       "      <td>405d1bbebbf</td>\n",
       "      <td>Grade 2</td>\n",
       "      <td>44</td>\n",
       "      <td>0.0</td>\n",
       "      <td>0</td>\n",
       "      <td>0</td>\n",
       "      <td>0</td>\n",
       "      <td>0</td>\n",
       "      <td>0</td>\n",
       "      <td>0</td>\n",
       "      <td>0</td>\n",
       "      <td>1.0</td>\n",
       "      <td>4423</td>\n",
       "    </tr>\n",
       "    <tr>\n",
       "      <th>2</th>\n",
       "      <td>Both</td>\n",
       "      <td>351d9bc71f6</td>\n",
       "      <td>Grade 1</td>\n",
       "      <td>36</td>\n",
       "      <td>0.0</td>\n",
       "      <td>0</td>\n",
       "      <td>0</td>\n",
       "      <td>0</td>\n",
       "      <td>0</td>\n",
       "      <td>0</td>\n",
       "      <td>0</td>\n",
       "      <td>0</td>\n",
       "      <td>0.0</td>\n",
       "      <td>3650</td>\n",
       "    </tr>\n",
       "    <tr>\n",
       "      <th>3</th>\n",
       "      <td>Building removed</td>\n",
       "      <td>2be3a971166</td>\n",
       "      <td>Grade 5</td>\n",
       "      <td>30</td>\n",
       "      <td>0.0</td>\n",
       "      <td>0</td>\n",
       "      <td>0</td>\n",
       "      <td>0</td>\n",
       "      <td>0</td>\n",
       "      <td>0</td>\n",
       "      <td>0</td>\n",
       "      <td>0</td>\n",
       "      <td>0.0</td>\n",
       "      <td>3016</td>\n",
       "    </tr>\n",
       "    <tr>\n",
       "      <th>4</th>\n",
       "      <td>Both</td>\n",
       "      <td>34c7d073ea6</td>\n",
       "      <td>Grade 3</td>\n",
       "      <td>36</td>\n",
       "      <td>0.0</td>\n",
       "      <td>0</td>\n",
       "      <td>0</td>\n",
       "      <td>0</td>\n",
       "      <td>0</td>\n",
       "      <td>0</td>\n",
       "      <td>0</td>\n",
       "      <td>0</td>\n",
       "      <td>0.0</td>\n",
       "      <td>3627</td>\n",
       "    </tr>\n",
       "  </tbody>\n",
       "</table>\n",
       "</div>"
      ],
      "text/plain": [
       "       area_assesed  building_id damage_grade  district_id  \\\n",
       "0              Both  24385bfd2a2      Grade 4           24   \n",
       "1              Both  405d1bbebbf      Grade 2           44   \n",
       "2              Both  351d9bc71f6      Grade 1           36   \n",
       "3  Building removed  2be3a971166      Grade 5           30   \n",
       "4              Both  34c7d073ea6      Grade 3           36   \n",
       "\n",
       "   has_geotechnical_risk  has_geotechnical_risk_fault_crack  \\\n",
       "0                    0.0                                  0   \n",
       "1                    0.0                                  0   \n",
       "2                    0.0                                  0   \n",
       "3                    0.0                                  0   \n",
       "4                    0.0                                  0   \n",
       "\n",
       "   has_geotechnical_risk_flood  has_geotechnical_risk_land_settlement  \\\n",
       "0                            0                                      0   \n",
       "1                            0                                      0   \n",
       "2                            0                                      0   \n",
       "3                            0                                      0   \n",
       "4                            0                                      0   \n",
       "\n",
       "   has_geotechnical_risk_landslide  has_geotechnical_risk_liquefaction  \\\n",
       "0                                0                                   0   \n",
       "1                                0                                   0   \n",
       "2                                0                                   0   \n",
       "3                                0                                   0   \n",
       "4                                0                                   0   \n",
       "\n",
       "   has_geotechnical_risk_other  has_geotechnical_risk_rock_fall  \\\n",
       "0                            0                                0   \n",
       "1                            0                                0   \n",
       "2                            0                                0   \n",
       "3                            0                                0   \n",
       "4                            0                                0   \n",
       "\n",
       "   has_repair_started  vdcmun_id  \n",
       "0                 0.0       2489  \n",
       "1                 1.0       4423  \n",
       "2                 0.0       3650  \n",
       "3                 0.0       3016  \n",
       "4                 0.0       3627  "
      ]
     },
     "execution_count": 10,
     "metadata": {},
     "output_type": "execute_result"
    }
   ],
   "source": [
    "train.head()"
   ]
  },
  {
   "cell_type": "code",
   "execution_count": 11,
   "metadata": {},
   "outputs": [
    {
     "name": "stdout",
     "output_type": "stream",
     "text": [
      "<class 'pandas.core.frame.DataFrame'>\n",
      "RangeIndex: 1052948 entries, 0 to 1052947\n",
      "Data columns (total 17 columns):\n",
      "building_id                      1052948 non-null object\n",
      "district_id                      1052948 non-null int64\n",
      "vdcmun_id                        1052948 non-null int64\n",
      "ward_id                          1052948 non-null int64\n",
      "legal_ownership_status           1052948 non-null object\n",
      "count_families                   1052946 non-null float64\n",
      "has_secondary_use                1052938 non-null float64\n",
      "has_secondary_use_agriculture    1052948 non-null int64\n",
      "has_secondary_use_hotel          1052948 non-null int64\n",
      "has_secondary_use_rental         1052948 non-null int64\n",
      "has_secondary_use_institution    1052948 non-null int64\n",
      "has_secondary_use_school         1052948 non-null int64\n",
      "has_secondary_use_industry       1052948 non-null int64\n",
      "has_secondary_use_health_post    1052948 non-null int64\n",
      "has_secondary_use_gov_office     1052948 non-null int64\n",
      "has_secondary_use_use_police     1052948 non-null int64\n",
      "has_secondary_use_other          1052948 non-null int64\n",
      "dtypes: float64(2), int64(13), object(2)\n",
      "memory usage: 136.6+ MB\n"
     ]
    }
   ],
   "source": [
    "ownership = pd.read_csv(\"Building_Ownership_Use.csv\")\n",
    "ownership.info()"
   ]
  },
  {
   "cell_type": "code",
   "execution_count": 12,
   "metadata": {},
   "outputs": [
    {
     "name": "stdout",
     "output_type": "stream",
     "text": [
      "<class 'pandas.core.frame.DataFrame'>\n",
      "RangeIndex: 1052948 entries, 0 to 1052947\n",
      "Data columns (total 29 columns):\n",
      "building_id                               1052948 non-null object\n",
      "district_id                               1052948 non-null int64\n",
      "vdcmun_id                                 1052948 non-null int64\n",
      "ward_id                                   1052948 non-null int64\n",
      "count_floors_pre_eq                       1052948 non-null int64\n",
      "count_floors_post_eq                      1052948 non-null int64\n",
      "age_building                              1052948 non-null int64\n",
      "plinth_area_sq_ft                         1052948 non-null int64\n",
      "height_ft_pre_eq                          1052948 non-null int64\n",
      "height_ft_post_eq                         1052948 non-null int64\n",
      "land_surface_condition                    1052948 non-null object\n",
      "foundation_type                           1052948 non-null object\n",
      "roof_type                                 1052948 non-null object\n",
      "ground_floor_type                         1052948 non-null object\n",
      "other_floor_type                          1052948 non-null object\n",
      "position                                  1052947 non-null object\n",
      "plan_configuration                        1052947 non-null object\n",
      "has_superstructure_adobe_mud              1052948 non-null int64\n",
      "has_superstructure_mud_mortar_stone       1052948 non-null int64\n",
      "has_superstructure_stone_flag             1052948 non-null int64\n",
      "has_superstructure_cement_mortar_stone    1052948 non-null int64\n",
      "has_superstructure_mud_mortar_brick       1052948 non-null int64\n",
      "has_superstructure_cement_mortar_brick    1052948 non-null int64\n",
      "has_superstructure_timber                 1052948 non-null int64\n",
      "has_superstructure_bamboo                 1052948 non-null int64\n",
      "has_superstructure_rc_non_engineered      1052948 non-null int64\n",
      "has_superstructure_rc_engineered          1052948 non-null int64\n",
      "has_superstructure_other                  1052948 non-null int64\n",
      "condition_post_eq                         1052948 non-null object\n",
      "dtypes: int64(20), object(9)\n",
      "memory usage: 233.0+ MB\n"
     ]
    }
   ],
   "source": [
    "structure = pd.read_csv(\"Building_Structure.csv\")\n",
    "structure.info()"
   ]
  },
  {
   "cell_type": "code",
   "execution_count": 13,
   "metadata": {},
   "outputs": [
    {
     "data": {
      "text/plain": [
       "array([3, 1, 0, ..., 1, 3, 1])"
      ]
     },
     "execution_count": 13,
     "metadata": {},
     "output_type": "execute_result"
    }
   ],
   "source": [
    "from sklearn.preprocessing import LabelEncoder\n",
    "\n",
    "encoder = LabelEncoder()\n",
    "dg1 = encoder.fit_transform(train['damage_grade'])\n",
    "dg1"
   ]
  },
  {
   "cell_type": "code",
   "execution_count": 14,
   "metadata": {},
   "outputs": [
    {
     "data": {
      "text/plain": [
       "array(['Grade 4', 'Grade 2', 'Grade 1', 'Grade 5', 'Grade 3'],\n",
       "      dtype=object)"
      ]
     },
     "execution_count": 14,
     "metadata": {},
     "output_type": "execute_result"
    }
   ],
   "source": [
    "train['damage_grade'].unique()"
   ]
  },
  {
   "cell_type": "code",
   "execution_count": 15,
   "metadata": {},
   "outputs": [],
   "source": [
    "dgdf=pd.DataFrame(dg1,columns=['target'])"
   ]
  },
  {
   "cell_type": "code",
   "execution_count": 16,
   "metadata": {},
   "outputs": [
    {
     "data": {
      "text/html": [
       "<div>\n",
       "<style scoped>\n",
       "    .dataframe tbody tr th:only-of-type {\n",
       "        vertical-align: middle;\n",
       "    }\n",
       "\n",
       "    .dataframe tbody tr th {\n",
       "        vertical-align: top;\n",
       "    }\n",
       "\n",
       "    .dataframe thead th {\n",
       "        text-align: right;\n",
       "    }\n",
       "</style>\n",
       "<table border=\"1\" class=\"dataframe\">\n",
       "  <thead>\n",
       "    <tr style=\"text-align: right;\">\n",
       "      <th></th>\n",
       "      <th>target</th>\n",
       "    </tr>\n",
       "  </thead>\n",
       "  <tbody>\n",
       "    <tr>\n",
       "      <th>0</th>\n",
       "      <td>3</td>\n",
       "    </tr>\n",
       "    <tr>\n",
       "      <th>1</th>\n",
       "      <td>1</td>\n",
       "    </tr>\n",
       "    <tr>\n",
       "      <th>2</th>\n",
       "      <td>0</td>\n",
       "    </tr>\n",
       "    <tr>\n",
       "      <th>3</th>\n",
       "      <td>4</td>\n",
       "    </tr>\n",
       "    <tr>\n",
       "      <th>4</th>\n",
       "      <td>2</td>\n",
       "    </tr>\n",
       "  </tbody>\n",
       "</table>\n",
       "</div>"
      ],
      "text/plain": [
       "   target\n",
       "0       3\n",
       "1       1\n",
       "2       0\n",
       "3       4\n",
       "4       2"
      ]
     },
     "execution_count": 16,
     "metadata": {},
     "output_type": "execute_result"
    }
   ],
   "source": [
    "dgdf.head()"
   ]
  },
  {
   "cell_type": "code",
   "execution_count": 17,
   "metadata": {},
   "outputs": [],
   "source": [
    "st=train.reset_index(drop=True)\n",
    "dgdf.reset_index(drop=True, inplace=True)\n",
    "\n",
    "train1 = pd.concat( [st, dgdf], axis=1) \n"
   ]
  },
  {
   "cell_type": "code",
   "execution_count": 18,
   "metadata": {},
   "outputs": [
    {
     "data": {
      "text/html": [
       "<div>\n",
       "<style scoped>\n",
       "    .dataframe tbody tr th:only-of-type {\n",
       "        vertical-align: middle;\n",
       "    }\n",
       "\n",
       "    .dataframe tbody tr th {\n",
       "        vertical-align: top;\n",
       "    }\n",
       "\n",
       "    .dataframe thead th {\n",
       "        text-align: right;\n",
       "    }\n",
       "</style>\n",
       "<table border=\"1\" class=\"dataframe\">\n",
       "  <thead>\n",
       "    <tr style=\"text-align: right;\">\n",
       "      <th></th>\n",
       "      <th>area_assesed</th>\n",
       "      <th>building_id</th>\n",
       "      <th>damage_grade</th>\n",
       "      <th>district_id</th>\n",
       "      <th>has_geotechnical_risk</th>\n",
       "      <th>has_geotechnical_risk_fault_crack</th>\n",
       "      <th>has_geotechnical_risk_flood</th>\n",
       "      <th>has_geotechnical_risk_land_settlement</th>\n",
       "      <th>has_geotechnical_risk_landslide</th>\n",
       "      <th>has_geotechnical_risk_liquefaction</th>\n",
       "      <th>has_geotechnical_risk_other</th>\n",
       "      <th>has_geotechnical_risk_rock_fall</th>\n",
       "      <th>has_repair_started</th>\n",
       "      <th>vdcmun_id</th>\n",
       "      <th>target</th>\n",
       "    </tr>\n",
       "  </thead>\n",
       "  <tbody>\n",
       "    <tr>\n",
       "      <th>0</th>\n",
       "      <td>Both</td>\n",
       "      <td>24385bfd2a2</td>\n",
       "      <td>Grade 4</td>\n",
       "      <td>24</td>\n",
       "      <td>0.0</td>\n",
       "      <td>0</td>\n",
       "      <td>0</td>\n",
       "      <td>0</td>\n",
       "      <td>0</td>\n",
       "      <td>0</td>\n",
       "      <td>0</td>\n",
       "      <td>0</td>\n",
       "      <td>0.0</td>\n",
       "      <td>2489</td>\n",
       "      <td>3</td>\n",
       "    </tr>\n",
       "    <tr>\n",
       "      <th>1</th>\n",
       "      <td>Both</td>\n",
       "      <td>405d1bbebbf</td>\n",
       "      <td>Grade 2</td>\n",
       "      <td>44</td>\n",
       "      <td>0.0</td>\n",
       "      <td>0</td>\n",
       "      <td>0</td>\n",
       "      <td>0</td>\n",
       "      <td>0</td>\n",
       "      <td>0</td>\n",
       "      <td>0</td>\n",
       "      <td>0</td>\n",
       "      <td>1.0</td>\n",
       "      <td>4423</td>\n",
       "      <td>1</td>\n",
       "    </tr>\n",
       "    <tr>\n",
       "      <th>2</th>\n",
       "      <td>Both</td>\n",
       "      <td>351d9bc71f6</td>\n",
       "      <td>Grade 1</td>\n",
       "      <td>36</td>\n",
       "      <td>0.0</td>\n",
       "      <td>0</td>\n",
       "      <td>0</td>\n",
       "      <td>0</td>\n",
       "      <td>0</td>\n",
       "      <td>0</td>\n",
       "      <td>0</td>\n",
       "      <td>0</td>\n",
       "      <td>0.0</td>\n",
       "      <td>3650</td>\n",
       "      <td>0</td>\n",
       "    </tr>\n",
       "    <tr>\n",
       "      <th>3</th>\n",
       "      <td>Building removed</td>\n",
       "      <td>2be3a971166</td>\n",
       "      <td>Grade 5</td>\n",
       "      <td>30</td>\n",
       "      <td>0.0</td>\n",
       "      <td>0</td>\n",
       "      <td>0</td>\n",
       "      <td>0</td>\n",
       "      <td>0</td>\n",
       "      <td>0</td>\n",
       "      <td>0</td>\n",
       "      <td>0</td>\n",
       "      <td>0.0</td>\n",
       "      <td>3016</td>\n",
       "      <td>4</td>\n",
       "    </tr>\n",
       "    <tr>\n",
       "      <th>4</th>\n",
       "      <td>Both</td>\n",
       "      <td>34c7d073ea6</td>\n",
       "      <td>Grade 3</td>\n",
       "      <td>36</td>\n",
       "      <td>0.0</td>\n",
       "      <td>0</td>\n",
       "      <td>0</td>\n",
       "      <td>0</td>\n",
       "      <td>0</td>\n",
       "      <td>0</td>\n",
       "      <td>0</td>\n",
       "      <td>0</td>\n",
       "      <td>0.0</td>\n",
       "      <td>3627</td>\n",
       "      <td>2</td>\n",
       "    </tr>\n",
       "  </tbody>\n",
       "</table>\n",
       "</div>"
      ],
      "text/plain": [
       "       area_assesed  building_id damage_grade  district_id  \\\n",
       "0              Both  24385bfd2a2      Grade 4           24   \n",
       "1              Both  405d1bbebbf      Grade 2           44   \n",
       "2              Both  351d9bc71f6      Grade 1           36   \n",
       "3  Building removed  2be3a971166      Grade 5           30   \n",
       "4              Both  34c7d073ea6      Grade 3           36   \n",
       "\n",
       "   has_geotechnical_risk  has_geotechnical_risk_fault_crack  \\\n",
       "0                    0.0                                  0   \n",
       "1                    0.0                                  0   \n",
       "2                    0.0                                  0   \n",
       "3                    0.0                                  0   \n",
       "4                    0.0                                  0   \n",
       "\n",
       "   has_geotechnical_risk_flood  has_geotechnical_risk_land_settlement  \\\n",
       "0                            0                                      0   \n",
       "1                            0                                      0   \n",
       "2                            0                                      0   \n",
       "3                            0                                      0   \n",
       "4                            0                                      0   \n",
       "\n",
       "   has_geotechnical_risk_landslide  has_geotechnical_risk_liquefaction  \\\n",
       "0                                0                                   0   \n",
       "1                                0                                   0   \n",
       "2                                0                                   0   \n",
       "3                                0                                   0   \n",
       "4                                0                                   0   \n",
       "\n",
       "   has_geotechnical_risk_other  has_geotechnical_risk_rock_fall  \\\n",
       "0                            0                                0   \n",
       "1                            0                                0   \n",
       "2                            0                                0   \n",
       "3                            0                                0   \n",
       "4                            0                                0   \n",
       "\n",
       "   has_repair_started  vdcmun_id  target  \n",
       "0                 0.0       2489       3  \n",
       "1                 1.0       4423       1  \n",
       "2                 0.0       3650       0  \n",
       "3                 0.0       3016       4  \n",
       "4                 0.0       3627       2  "
      ]
     },
     "execution_count": 18,
     "metadata": {},
     "output_type": "execute_result"
    }
   ],
   "source": [
    "train1.head()"
   ]
  },
  {
   "cell_type": "code",
   "execution_count": 19,
   "metadata": {},
   "outputs": [],
   "source": [
    "train1.drop('damage_grade',axis=1,inplace=True)"
   ]
  },
  {
   "cell_type": "code",
   "execution_count": 20,
   "metadata": {},
   "outputs": [],
   "source": [
    "train1 = train1.merge(ownership, how=\"inner\", on=\"building_id\")"
   ]
  },
  {
   "cell_type": "code",
   "execution_count": 21,
   "metadata": {},
   "outputs": [],
   "source": [
    "train1=train1.merge(structure,how=\"inner\",on=\"building_id\")"
   ]
  },
  {
   "cell_type": "code",
   "execution_count": 22,
   "metadata": {},
   "outputs": [
    {
     "name": "stdout",
     "output_type": "stream",
     "text": [
      "<class 'pandas.core.frame.DataFrame'>\n",
      "Int64Index: 631761 entries, 0 to 631760\n",
      "Data columns (total 58 columns):\n",
      "area_assesed                              631761 non-null object\n",
      "building_id                               631761 non-null object\n",
      "district_id_x                             631761 non-null int64\n",
      "has_geotechnical_risk                     631761 non-null float64\n",
      "has_geotechnical_risk_fault_crack         631761 non-null int64\n",
      "has_geotechnical_risk_flood               631761 non-null int64\n",
      "has_geotechnical_risk_land_settlement     631761 non-null int64\n",
      "has_geotechnical_risk_landslide           631761 non-null int64\n",
      "has_geotechnical_risk_liquefaction        631761 non-null int64\n",
      "has_geotechnical_risk_other               631761 non-null int64\n",
      "has_geotechnical_risk_rock_fall           631761 non-null int64\n",
      "has_repair_started                        598344 non-null float64\n",
      "vdcmun_id_x                               631761 non-null int64\n",
      "target                                    631761 non-null int64\n",
      "district_id_y                             631761 non-null int64\n",
      "vdcmun_id_y                               631761 non-null int64\n",
      "ward_id_x                                 631761 non-null int64\n",
      "legal_ownership_status                    631761 non-null object\n",
      "count_families                            631760 non-null float64\n",
      "has_secondary_use                         631761 non-null float64\n",
      "has_secondary_use_agriculture             631761 non-null int64\n",
      "has_secondary_use_hotel                   631761 non-null int64\n",
      "has_secondary_use_rental                  631761 non-null int64\n",
      "has_secondary_use_institution             631761 non-null int64\n",
      "has_secondary_use_school                  631761 non-null int64\n",
      "has_secondary_use_industry                631761 non-null int64\n",
      "has_secondary_use_health_post             631761 non-null int64\n",
      "has_secondary_use_gov_office              631761 non-null int64\n",
      "has_secondary_use_use_police              631761 non-null int64\n",
      "has_secondary_use_other                   631761 non-null int64\n",
      "district_id                               631761 non-null int64\n",
      "vdcmun_id                                 631761 non-null int64\n",
      "ward_id_y                                 631761 non-null int64\n",
      "count_floors_pre_eq                       631761 non-null int64\n",
      "count_floors_post_eq                      631761 non-null int64\n",
      "age_building                              631761 non-null int64\n",
      "plinth_area_sq_ft                         631761 non-null int64\n",
      "height_ft_pre_eq                          631761 non-null int64\n",
      "height_ft_post_eq                         631761 non-null int64\n",
      "land_surface_condition                    631761 non-null object\n",
      "foundation_type                           631761 non-null object\n",
      "roof_type                                 631761 non-null object\n",
      "ground_floor_type                         631761 non-null object\n",
      "other_floor_type                          631761 non-null object\n",
      "position                                  631761 non-null object\n",
      "plan_configuration                        631761 non-null object\n",
      "has_superstructure_adobe_mud              631761 non-null int64\n",
      "has_superstructure_mud_mortar_stone       631761 non-null int64\n",
      "has_superstructure_stone_flag             631761 non-null int64\n",
      "has_superstructure_cement_mortar_stone    631761 non-null int64\n",
      "has_superstructure_mud_mortar_brick       631761 non-null int64\n",
      "has_superstructure_cement_mortar_brick    631761 non-null int64\n",
      "has_superstructure_timber                 631761 non-null int64\n",
      "has_superstructure_bamboo                 631761 non-null int64\n",
      "has_superstructure_rc_non_engineered      631761 non-null int64\n",
      "has_superstructure_rc_engineered          631761 non-null int64\n",
      "has_superstructure_other                  631761 non-null int64\n",
      "condition_post_eq                         631761 non-null object\n",
      "dtypes: float64(4), int64(43), object(11)\n",
      "memory usage: 284.4+ MB\n"
     ]
    }
   ],
   "source": [
    "train1.info()"
   ]
  },
  {
   "cell_type": "code",
   "execution_count": 23,
   "metadata": {},
   "outputs": [
    {
     "data": {
      "text/plain": [
       "array(['Both', 'Building removed', 'Exterior', 'Not able to inspect',\n",
       "       'Interior'], dtype=object)"
      ]
     },
     "execution_count": 23,
     "metadata": {},
     "output_type": "execute_result"
    }
   ],
   "source": [
    "train1['area_assesed'].unique()"
   ]
  },
  {
   "cell_type": "code",
   "execution_count": 24,
   "metadata": {},
   "outputs": [],
   "source": [
    "area_assesed1=pd.get_dummies(train['area_assesed'],drop_first=True)"
   ]
  },
  {
   "cell_type": "code",
   "execution_count": 25,
   "metadata": {},
   "outputs": [],
   "source": [
    "train1.drop('area_assesed',axis=1,inplace=True)"
   ]
  },
  {
   "cell_type": "code",
   "execution_count": 26,
   "metadata": {},
   "outputs": [],
   "source": [
    "train1=pd.concat([train1,area_assesed1],axis=1)"
   ]
  },
  {
   "cell_type": "code",
   "execution_count": 27,
   "metadata": {},
   "outputs": [
    {
     "data": {
      "text/plain": [
       "array(['Private', 'Public', 'Other', 'Institutional'], dtype=object)"
      ]
     },
     "execution_count": 27,
     "metadata": {},
     "output_type": "execute_result"
    }
   ],
   "source": [
    "train1['legal_ownership_status'].unique()"
   ]
  },
  {
   "cell_type": "code",
   "execution_count": 28,
   "metadata": {},
   "outputs": [],
   "source": [
    "train1['legal_ownership_status']=encoder.fit_transform(train1['legal_ownership_status'])\n"
   ]
  },
  {
   "cell_type": "code",
   "execution_count": 29,
   "metadata": {},
   "outputs": [
    {
     "data": {
      "text/plain": [
       "array([2, 3, 1, 0])"
      ]
     },
     "execution_count": 29,
     "metadata": {},
     "output_type": "execute_result"
    }
   ],
   "source": [
    "train1['legal_ownership_status'].unique()"
   ]
  },
  {
   "cell_type": "code",
   "execution_count": 30,
   "metadata": {},
   "outputs": [
    {
     "data": {
      "text/plain": [
       "array(['Flat', 'Steep slope', 'Moderate slope'], dtype=object)"
      ]
     },
     "execution_count": 30,
     "metadata": {},
     "output_type": "execute_result"
    }
   ],
   "source": [
    "train1['land_surface_condition'].unique()"
   ]
  },
  {
   "cell_type": "code",
   "execution_count": 31,
   "metadata": {},
   "outputs": [],
   "source": [
    "l=list(train1.columns)"
   ]
  },
  {
   "cell_type": "code",
   "execution_count": 32,
   "metadata": {},
   "outputs": [],
   "source": [
    "strcol=[]\n",
    "for i in l:\n",
    "    if(train1[i].dtype=='O'):\n",
    "        strcol.append(i)"
   ]
  },
  {
   "cell_type": "code",
   "execution_count": 33,
   "metadata": {},
   "outputs": [],
   "source": [
    "strcol.remove('building_id')"
   ]
  },
  {
   "cell_type": "code",
   "execution_count": 34,
   "metadata": {},
   "outputs": [],
   "source": [
    "dummycol=pd.get_dummies(train1[strcol],drop_first=1)"
   ]
  },
  {
   "cell_type": "code",
   "execution_count": 35,
   "metadata": {},
   "outputs": [],
   "source": [
    "train1.drop(strcol,axis=1,inplace=True)"
   ]
  },
  {
   "cell_type": "code",
   "execution_count": 36,
   "metadata": {},
   "outputs": [],
   "source": [
    "train1=pd.concat([train1,dummycol],axis=1)"
   ]
  },
  {
   "cell_type": "code",
   "execution_count": 37,
   "metadata": {},
   "outputs": [
    {
     "data": {
      "text/plain": [
       "0.0    409222\n",
       "1.0    189122\n",
       "Name: has_repair_started, dtype: int64"
      ]
     },
     "execution_count": 37,
     "metadata": {},
     "output_type": "execute_result"
    }
   ],
   "source": [
    "train1['has_repair_started'].value_counts()"
   ]
  },
  {
   "cell_type": "code",
   "execution_count": 38,
   "metadata": {},
   "outputs": [
    {
     "name": "stdout",
     "output_type": "stream",
     "text": [
      "<class 'pandas.core.frame.DataFrame'>\n",
      "Int64Index: 631761 entries, 0 to 631760\n",
      "Data columns (total 87 columns):\n",
      "building_id                                                  631761 non-null object\n",
      "district_id_x                                                631761 non-null int64\n",
      "has_geotechnical_risk                                        631761 non-null float64\n",
      "has_geotechnical_risk_fault_crack                            631761 non-null int64\n",
      "has_geotechnical_risk_flood                                  631761 non-null int64\n",
      "has_geotechnical_risk_land_settlement                        631761 non-null int64\n",
      "has_geotechnical_risk_landslide                              631761 non-null int64\n",
      "has_geotechnical_risk_liquefaction                           631761 non-null int64\n",
      "has_geotechnical_risk_other                                  631761 non-null int64\n",
      "has_geotechnical_risk_rock_fall                              631761 non-null int64\n",
      "has_repair_started                                           598344 non-null float64\n",
      "vdcmun_id_x                                                  631761 non-null int64\n",
      "target                                                       631761 non-null int64\n",
      "district_id_y                                                631761 non-null int64\n",
      "vdcmun_id_y                                                  631761 non-null int64\n",
      "ward_id_x                                                    631761 non-null int64\n",
      "legal_ownership_status                                       631761 non-null int64\n",
      "count_families                                               631760 non-null float64\n",
      "has_secondary_use                                            631761 non-null float64\n",
      "has_secondary_use_agriculture                                631761 non-null int64\n",
      "has_secondary_use_hotel                                      631761 non-null int64\n",
      "has_secondary_use_rental                                     631761 non-null int64\n",
      "has_secondary_use_institution                                631761 non-null int64\n",
      "has_secondary_use_school                                     631761 non-null int64\n",
      "has_secondary_use_industry                                   631761 non-null int64\n",
      "has_secondary_use_health_post                                631761 non-null int64\n",
      "has_secondary_use_gov_office                                 631761 non-null int64\n",
      "has_secondary_use_use_police                                 631761 non-null int64\n",
      "has_secondary_use_other                                      631761 non-null int64\n",
      "district_id                                                  631761 non-null int64\n",
      "vdcmun_id                                                    631761 non-null int64\n",
      "ward_id_y                                                    631761 non-null int64\n",
      "count_floors_pre_eq                                          631761 non-null int64\n",
      "count_floors_post_eq                                         631761 non-null int64\n",
      "age_building                                                 631761 non-null int64\n",
      "plinth_area_sq_ft                                            631761 non-null int64\n",
      "height_ft_pre_eq                                             631761 non-null int64\n",
      "height_ft_post_eq                                            631761 non-null int64\n",
      "has_superstructure_adobe_mud                                 631761 non-null int64\n",
      "has_superstructure_mud_mortar_stone                          631761 non-null int64\n",
      "has_superstructure_stone_flag                                631761 non-null int64\n",
      "has_superstructure_cement_mortar_stone                       631761 non-null int64\n",
      "has_superstructure_mud_mortar_brick                          631761 non-null int64\n",
      "has_superstructure_cement_mortar_brick                       631761 non-null int64\n",
      "has_superstructure_timber                                    631761 non-null int64\n",
      "has_superstructure_bamboo                                    631761 non-null int64\n",
      "has_superstructure_rc_non_engineered                         631761 non-null int64\n",
      "has_superstructure_rc_engineered                             631761 non-null int64\n",
      "has_superstructure_other                                     631761 non-null int64\n",
      "Building removed                                             631761 non-null uint8\n",
      "Exterior                                                     631761 non-null uint8\n",
      "Interior                                                     631761 non-null uint8\n",
      "Not able to inspect                                          631761 non-null uint8\n",
      "land_surface_condition_Moderate slope                        631761 non-null uint8\n",
      "land_surface_condition_Steep slope                           631761 non-null uint8\n",
      "foundation_type_Cement-Stone/Brick                           631761 non-null uint8\n",
      "foundation_type_Mud mortar-Stone/Brick                       631761 non-null uint8\n",
      "foundation_type_Other                                        631761 non-null uint8\n",
      "foundation_type_RC                                           631761 non-null uint8\n",
      "roof_type_Bamboo/Timber-Light roof                           631761 non-null uint8\n",
      "roof_type_RCC/RB/RBC                                         631761 non-null uint8\n",
      "ground_floor_type_Mud                                        631761 non-null uint8\n",
      "ground_floor_type_Other                                      631761 non-null uint8\n",
      "ground_floor_type_RC                                         631761 non-null uint8\n",
      "ground_floor_type_Timber                                     631761 non-null uint8\n",
      "other_floor_type_RCC/RB/RBC                                  631761 non-null uint8\n",
      "other_floor_type_TImber/Bamboo-Mud                           631761 non-null uint8\n",
      "other_floor_type_Timber-Planck                               631761 non-null uint8\n",
      "position_Attached-2 side                                     631761 non-null uint8\n",
      "position_Attached-3 side                                     631761 non-null uint8\n",
      "position_Not attached                                        631761 non-null uint8\n",
      "plan_configuration_E-shape                                   631761 non-null uint8\n",
      "plan_configuration_H-shape                                   631761 non-null uint8\n",
      "plan_configuration_L-shape                                   631761 non-null uint8\n",
      "plan_configuration_Multi-projected                           631761 non-null uint8\n",
      "plan_configuration_Others                                    631761 non-null uint8\n",
      "plan_configuration_Rectangular                               631761 non-null uint8\n",
      "plan_configuration_Square                                    631761 non-null uint8\n",
      "plan_configuration_T-shape                                   631761 non-null uint8\n",
      "plan_configuration_U-shape                                   631761 non-null uint8\n",
      "condition_post_eq_Damaged-Not used                           631761 non-null uint8\n",
      "condition_post_eq_Damaged-Repaired and used                  631761 non-null uint8\n",
      "condition_post_eq_Damaged-Rubble Clear-New building built    631761 non-null uint8\n",
      "condition_post_eq_Damaged-Rubble clear                       631761 non-null uint8\n",
      "condition_post_eq_Damaged-Rubble unclear                     631761 non-null uint8\n",
      "condition_post_eq_Damaged-Used in risk                       631761 non-null uint8\n",
      "condition_post_eq_Not damaged                                631761 non-null uint8\n",
      "dtypes: float64(4), int64(44), object(1), uint8(38)\n",
      "memory usage: 263.9+ MB\n"
     ]
    }
   ],
   "source": [
    "train1.info()"
   ]
  },
  {
   "cell_type": "code",
   "execution_count": 39,
   "metadata": {},
   "outputs": [],
   "source": [
    "train1['has_repair_started'].fillna(1.0,inplace=True)"
   ]
  },
  {
   "cell_type": "code",
   "execution_count": 40,
   "metadata": {},
   "outputs": [
    {
     "data": {
      "text/plain": [
       "1.0     547837\n",
       "0.0      50659\n",
       "2.0      27771\n",
       "3.0       4185\n",
       "4.0        939\n",
       "5.0        262\n",
       "6.0         73\n",
       "7.0         19\n",
       "8.0          9\n",
       "9.0          5\n",
       "11.0         1\n",
       "Name: count_families, dtype: int64"
      ]
     },
     "execution_count": 40,
     "metadata": {},
     "output_type": "execute_result"
    }
   ],
   "source": [
    "train1['count_families'].value_counts()"
   ]
  },
  {
   "cell_type": "code",
   "execution_count": 41,
   "metadata": {},
   "outputs": [],
   "source": [
    "train1['count_families'].fillna(1.0,inplace=True)"
   ]
  },
  {
   "cell_type": "code",
   "execution_count": 42,
   "metadata": {},
   "outputs": [
    {
     "name": "stdout",
     "output_type": "stream",
     "text": [
      "<class 'pandas.core.frame.DataFrame'>\n",
      "Int64Index: 631761 entries, 0 to 631760\n",
      "Data columns (total 87 columns):\n",
      "building_id                                                  631761 non-null object\n",
      "district_id_x                                                631761 non-null int64\n",
      "has_geotechnical_risk                                        631761 non-null float64\n",
      "has_geotechnical_risk_fault_crack                            631761 non-null int64\n",
      "has_geotechnical_risk_flood                                  631761 non-null int64\n",
      "has_geotechnical_risk_land_settlement                        631761 non-null int64\n",
      "has_geotechnical_risk_landslide                              631761 non-null int64\n",
      "has_geotechnical_risk_liquefaction                           631761 non-null int64\n",
      "has_geotechnical_risk_other                                  631761 non-null int64\n",
      "has_geotechnical_risk_rock_fall                              631761 non-null int64\n",
      "has_repair_started                                           631761 non-null float64\n",
      "vdcmun_id_x                                                  631761 non-null int64\n",
      "target                                                       631761 non-null int64\n",
      "district_id_y                                                631761 non-null int64\n",
      "vdcmun_id_y                                                  631761 non-null int64\n",
      "ward_id_x                                                    631761 non-null int64\n",
      "legal_ownership_status                                       631761 non-null int64\n",
      "count_families                                               631761 non-null float64\n",
      "has_secondary_use                                            631761 non-null float64\n",
      "has_secondary_use_agriculture                                631761 non-null int64\n",
      "has_secondary_use_hotel                                      631761 non-null int64\n",
      "has_secondary_use_rental                                     631761 non-null int64\n",
      "has_secondary_use_institution                                631761 non-null int64\n",
      "has_secondary_use_school                                     631761 non-null int64\n",
      "has_secondary_use_industry                                   631761 non-null int64\n",
      "has_secondary_use_health_post                                631761 non-null int64\n",
      "has_secondary_use_gov_office                                 631761 non-null int64\n",
      "has_secondary_use_use_police                                 631761 non-null int64\n",
      "has_secondary_use_other                                      631761 non-null int64\n",
      "district_id                                                  631761 non-null int64\n",
      "vdcmun_id                                                    631761 non-null int64\n",
      "ward_id_y                                                    631761 non-null int64\n",
      "count_floors_pre_eq                                          631761 non-null int64\n",
      "count_floors_post_eq                                         631761 non-null int64\n",
      "age_building                                                 631761 non-null int64\n",
      "plinth_area_sq_ft                                            631761 non-null int64\n",
      "height_ft_pre_eq                                             631761 non-null int64\n",
      "height_ft_post_eq                                            631761 non-null int64\n",
      "has_superstructure_adobe_mud                                 631761 non-null int64\n",
      "has_superstructure_mud_mortar_stone                          631761 non-null int64\n",
      "has_superstructure_stone_flag                                631761 non-null int64\n",
      "has_superstructure_cement_mortar_stone                       631761 non-null int64\n",
      "has_superstructure_mud_mortar_brick                          631761 non-null int64\n",
      "has_superstructure_cement_mortar_brick                       631761 non-null int64\n",
      "has_superstructure_timber                                    631761 non-null int64\n",
      "has_superstructure_bamboo                                    631761 non-null int64\n",
      "has_superstructure_rc_non_engineered                         631761 non-null int64\n",
      "has_superstructure_rc_engineered                             631761 non-null int64\n",
      "has_superstructure_other                                     631761 non-null int64\n",
      "Building removed                                             631761 non-null uint8\n",
      "Exterior                                                     631761 non-null uint8\n",
      "Interior                                                     631761 non-null uint8\n",
      "Not able to inspect                                          631761 non-null uint8\n",
      "land_surface_condition_Moderate slope                        631761 non-null uint8\n",
      "land_surface_condition_Steep slope                           631761 non-null uint8\n",
      "foundation_type_Cement-Stone/Brick                           631761 non-null uint8\n",
      "foundation_type_Mud mortar-Stone/Brick                       631761 non-null uint8\n",
      "foundation_type_Other                                        631761 non-null uint8\n",
      "foundation_type_RC                                           631761 non-null uint8\n",
      "roof_type_Bamboo/Timber-Light roof                           631761 non-null uint8\n",
      "roof_type_RCC/RB/RBC                                         631761 non-null uint8\n",
      "ground_floor_type_Mud                                        631761 non-null uint8\n",
      "ground_floor_type_Other                                      631761 non-null uint8\n",
      "ground_floor_type_RC                                         631761 non-null uint8\n",
      "ground_floor_type_Timber                                     631761 non-null uint8\n",
      "other_floor_type_RCC/RB/RBC                                  631761 non-null uint8\n",
      "other_floor_type_TImber/Bamboo-Mud                           631761 non-null uint8\n",
      "other_floor_type_Timber-Planck                               631761 non-null uint8\n",
      "position_Attached-2 side                                     631761 non-null uint8\n",
      "position_Attached-3 side                                     631761 non-null uint8\n",
      "position_Not attached                                        631761 non-null uint8\n",
      "plan_configuration_E-shape                                   631761 non-null uint8\n",
      "plan_configuration_H-shape                                   631761 non-null uint8\n",
      "plan_configuration_L-shape                                   631761 non-null uint8\n",
      "plan_configuration_Multi-projected                           631761 non-null uint8\n",
      "plan_configuration_Others                                    631761 non-null uint8\n",
      "plan_configuration_Rectangular                               631761 non-null uint8\n",
      "plan_configuration_Square                                    631761 non-null uint8\n",
      "plan_configuration_T-shape                                   631761 non-null uint8\n",
      "plan_configuration_U-shape                                   631761 non-null uint8\n",
      "condition_post_eq_Damaged-Not used                           631761 non-null uint8\n",
      "condition_post_eq_Damaged-Repaired and used                  631761 non-null uint8\n",
      "condition_post_eq_Damaged-Rubble Clear-New building built    631761 non-null uint8\n",
      "condition_post_eq_Damaged-Rubble clear                       631761 non-null uint8\n",
      "condition_post_eq_Damaged-Rubble unclear                     631761 non-null uint8\n",
      "condition_post_eq_Damaged-Used in risk                       631761 non-null uint8\n",
      "condition_post_eq_Not damaged                                631761 non-null uint8\n",
      "dtypes: float64(4), int64(44), object(1), uint8(38)\n",
      "memory usage: 263.9+ MB\n"
     ]
    }
   ],
   "source": [
    "train1.info()"
   ]
  },
  {
   "cell_type": "code",
   "execution_count": 43,
   "metadata": {},
   "outputs": [],
   "source": [
    "from sklearn.model_selection import train_test_split\n",
    "\n",
    "X_train, X_test, y_train, y_test = train_test_split(train1.drop(['building_id','target'],axis=1), train1['target'], test_size = 0.3, random_state = 101)"
   ]
  },
  {
   "cell_type": "markdown",
   "metadata": {},
   "source": [
    "from sklearn.ensemble import RandomForestClassifier\n",
    "etc=RandomForestClassifier()"
   ]
  },
  {
   "cell_type": "code",
   "execution_count": 47,
   "metadata": {},
   "outputs": [],
   "source": [
    "#import lightgbm\n",
    "#model=lightgbm()\n",
    "from sklearn.ensemble import RandomForestClassifier\n",
    "model=RandomForestClassifier()"
   ]
  },
  {
   "cell_type": "code",
   "execution_count": 48,
   "metadata": {},
   "outputs": [
    {
     "data": {
      "text/plain": [
       "RandomForestClassifier(bootstrap=True, class_weight=None, criterion='gini',\n",
       "            max_depth=None, max_features='auto', max_leaf_nodes=None,\n",
       "            min_impurity_decrease=0.0, min_impurity_split=None,\n",
       "            min_samples_leaf=1, min_samples_split=2,\n",
       "            min_weight_fraction_leaf=0.0, n_estimators=10, n_jobs=1,\n",
       "            oob_score=False, random_state=None, verbose=0,\n",
       "            warm_start=False)"
      ]
     },
     "execution_count": 48,
     "metadata": {},
     "output_type": "execute_result"
    }
   ],
   "source": [
    "model.fit(X_train,y_train)"
   ]
  },
  {
   "cell_type": "code",
   "execution_count": 50,
   "metadata": {},
   "outputs": [],
   "source": [
    "predictions=model.predict(X_test)"
   ]
  },
  {
   "cell_type": "code",
   "execution_count": 51,
   "metadata": {},
   "outputs": [
    {
     "data": {
      "text/plain": [
       "array([4, 2, 0, ..., 4, 2, 1])"
      ]
     },
     "execution_count": 51,
     "metadata": {},
     "output_type": "execute_result"
    }
   ],
   "source": [
    "predictions"
   ]
  },
  {
   "cell_type": "markdown",
   "metadata": {},
   "source": [
    "from sklearn.grid_search import GridSearchCV #Importing Grid Search CV"
   ]
  },
  {
   "cell_type": "markdown",
   "metadata": {},
   "source": [
    "param_grid = [\n",
    "    # try 12 (3×4) combinations of hyperparameters\n",
    "    {'n_estimators': [1,2,3], 'max_features': [1,2,3]},\n",
    "    # then try 6 (2×3) combinations with bootstrap set as False\n",
    "    {'bootstrap': [False], 'n_estimators': [1,2,3], 'max_features': [1,2,3]},\n",
    "  ]"
   ]
  },
  {
   "cell_type": "markdown",
   "metadata": {},
   "source": [
    "grid_search = GridSearchCV(etc, param_grid, cv=2, scoring='neg_mean_squared_error')"
   ]
  },
  {
   "cell_type": "markdown",
   "metadata": {},
   "source": [
    "grid_search.fit(X_train,y_train)"
   ]
  },
  {
   "cell_type": "markdown",
   "metadata": {},
   "source": [
    "predictions1=grid_search.predict(X_test)"
   ]
  },
  {
   "cell_type": "code",
   "execution_count": 52,
   "metadata": {},
   "outputs": [
    {
     "name": "stdout",
     "output_type": "stream",
     "text": [
      "('MAE:', 0.28505400228988703)\n",
      "('MSE:', 0.3668778920376301)\n",
      "('RMSE:', 0.6057044593179335)\n"
     ]
    }
   ],
   "source": [
    "from sklearn import metrics\n",
    "#Absolute Error\n",
    "print('MAE:', metrics.mean_absolute_error(y_test, predictions))\n",
    "\n",
    "#Mean Square Error\n",
    "print('MSE:', metrics.mean_squared_error(y_test, predictions))\n",
    "\n",
    "#Mean Square Root Error\n",
    "print('RMSE:', np.sqrt(metrics.mean_squared_error(y_test, predictions)))"
   ]
  },
  {
   "cell_type": "code",
   "execution_count": 53,
   "metadata": {},
   "outputs": [],
   "source": [
    "test=pd.read_csv(\"test.csv\")"
   ]
  },
  {
   "cell_type": "code",
   "execution_count": 54,
   "metadata": {},
   "outputs": [],
   "source": [
    "test = test.merge(ownership, how=\"inner\", on=\"building_id\")"
   ]
  },
  {
   "cell_type": "code",
   "execution_count": 55,
   "metadata": {},
   "outputs": [],
   "source": [
    "test=test.merge(structure,how=\"inner\",on=\"building_id\")"
   ]
  },
  {
   "cell_type": "code",
   "execution_count": 56,
   "metadata": {},
   "outputs": [],
   "source": [
    "area_assesed2=pd.get_dummies(test['area_assesed'],drop_first=True)\n",
    "test.drop('area_assesed',axis=1,inplace=True)\n",
    "test=pd.concat([test,area_assesed2],axis=1)"
   ]
  },
  {
   "cell_type": "code",
   "execution_count": 57,
   "metadata": {},
   "outputs": [],
   "source": [
    "test['legal_ownership_status']=encoder.fit_transform(test['legal_ownership_status'])"
   ]
  },
  {
   "cell_type": "code",
   "execution_count": 58,
   "metadata": {},
   "outputs": [],
   "source": [
    "l1=list(test.columns)"
   ]
  },
  {
   "cell_type": "code",
   "execution_count": 59,
   "metadata": {},
   "outputs": [],
   "source": [
    "strcol2=[]\n",
    "for i in l1:\n",
    "    if(test[i].dtype=='O'):\n",
    "        strcol2.append(i)"
   ]
  },
  {
   "cell_type": "code",
   "execution_count": 60,
   "metadata": {},
   "outputs": [],
   "source": [
    "strcol2.remove('building_id')"
   ]
  },
  {
   "cell_type": "code",
   "execution_count": 61,
   "metadata": {},
   "outputs": [],
   "source": [
    "dummycol2=pd.get_dummies(test[strcol2],drop_first=1)\n",
    "test.drop(strcol2,axis=1,inplace=True)\n",
    "test=pd.concat([test,dummycol2],axis=1)"
   ]
  },
  {
   "cell_type": "code",
   "execution_count": 62,
   "metadata": {},
   "outputs": [
    {
     "name": "stdout",
     "output_type": "stream",
     "text": [
      "<class 'pandas.core.frame.DataFrame'>\n",
      "Int64Index: 421175 entries, 0 to 421174\n",
      "Data columns (total 86 columns):\n",
      "building_id                                                  421175 non-null object\n",
      "district_id_x                                                421175 non-null int64\n",
      "has_geotechnical_risk                                        421175 non-null float64\n",
      "has_geotechnical_risk_fault_crack                            421175 non-null int64\n",
      "has_geotechnical_risk_flood                                  421175 non-null int64\n",
      "has_geotechnical_risk_land_settlement                        421175 non-null int64\n",
      "has_geotechnical_risk_landslide                              421175 non-null int64\n",
      "has_geotechnical_risk_liquefaction                           421175 non-null int64\n",
      "has_geotechnical_risk_other                                  421175 non-null int64\n",
      "has_geotechnical_risk_rock_fall                              421175 non-null int64\n",
      "has_repair_started                                           399253 non-null float64\n",
      "vdcmun_id_x                                                  421175 non-null int64\n",
      "district_id_y                                                421175 non-null int64\n",
      "vdcmun_id_y                                                  421175 non-null int64\n",
      "ward_id_x                                                    421175 non-null int64\n",
      "legal_ownership_status                                       421175 non-null int64\n",
      "count_families                                               421175 non-null float64\n",
      "has_secondary_use                                            421175 non-null float64\n",
      "has_secondary_use_agriculture                                421175 non-null int64\n",
      "has_secondary_use_hotel                                      421175 non-null int64\n",
      "has_secondary_use_rental                                     421175 non-null int64\n",
      "has_secondary_use_institution                                421175 non-null int64\n",
      "has_secondary_use_school                                     421175 non-null int64\n",
      "has_secondary_use_industry                                   421175 non-null int64\n",
      "has_secondary_use_health_post                                421175 non-null int64\n",
      "has_secondary_use_gov_office                                 421175 non-null int64\n",
      "has_secondary_use_use_police                                 421175 non-null int64\n",
      "has_secondary_use_other                                      421175 non-null int64\n",
      "district_id                                                  421175 non-null int64\n",
      "vdcmun_id                                                    421175 non-null int64\n",
      "ward_id_y                                                    421175 non-null int64\n",
      "count_floors_pre_eq                                          421175 non-null int64\n",
      "count_floors_post_eq                                         421175 non-null int64\n",
      "age_building                                                 421175 non-null int64\n",
      "plinth_area_sq_ft                                            421175 non-null int64\n",
      "height_ft_pre_eq                                             421175 non-null int64\n",
      "height_ft_post_eq                                            421175 non-null int64\n",
      "has_superstructure_adobe_mud                                 421175 non-null int64\n",
      "has_superstructure_mud_mortar_stone                          421175 non-null int64\n",
      "has_superstructure_stone_flag                                421175 non-null int64\n",
      "has_superstructure_cement_mortar_stone                       421175 non-null int64\n",
      "has_superstructure_mud_mortar_brick                          421175 non-null int64\n",
      "has_superstructure_cement_mortar_brick                       421175 non-null int64\n",
      "has_superstructure_timber                                    421175 non-null int64\n",
      "has_superstructure_bamboo                                    421175 non-null int64\n",
      "has_superstructure_rc_non_engineered                         421175 non-null int64\n",
      "has_superstructure_rc_engineered                             421175 non-null int64\n",
      "has_superstructure_other                                     421175 non-null int64\n",
      "Building removed                                             421175 non-null uint8\n",
      "Exterior                                                     421175 non-null uint8\n",
      "Interior                                                     421175 non-null uint8\n",
      "Not able to inspect                                          421175 non-null uint8\n",
      "land_surface_condition_Moderate slope                        421175 non-null uint8\n",
      "land_surface_condition_Steep slope                           421175 non-null uint8\n",
      "foundation_type_Cement-Stone/Brick                           421175 non-null uint8\n",
      "foundation_type_Mud mortar-Stone/Brick                       421175 non-null uint8\n",
      "foundation_type_Other                                        421175 non-null uint8\n",
      "foundation_type_RC                                           421175 non-null uint8\n",
      "roof_type_Bamboo/Timber-Light roof                           421175 non-null uint8\n",
      "roof_type_RCC/RB/RBC                                         421175 non-null uint8\n",
      "ground_floor_type_Mud                                        421175 non-null uint8\n",
      "ground_floor_type_Other                                      421175 non-null uint8\n",
      "ground_floor_type_RC                                         421175 non-null uint8\n",
      "ground_floor_type_Timber                                     421175 non-null uint8\n",
      "other_floor_type_RCC/RB/RBC                                  421175 non-null uint8\n",
      "other_floor_type_TImber/Bamboo-Mud                           421175 non-null uint8\n",
      "other_floor_type_Timber-Planck                               421175 non-null uint8\n",
      "position_Attached-2 side                                     421175 non-null uint8\n",
      "position_Attached-3 side                                     421175 non-null uint8\n",
      "position_Not attached                                        421175 non-null uint8\n",
      "plan_configuration_E-shape                                   421175 non-null uint8\n",
      "plan_configuration_H-shape                                   421175 non-null uint8\n",
      "plan_configuration_L-shape                                   421175 non-null uint8\n",
      "plan_configuration_Multi-projected                           421175 non-null uint8\n",
      "plan_configuration_Others                                    421175 non-null uint8\n",
      "plan_configuration_Rectangular                               421175 non-null uint8\n",
      "plan_configuration_Square                                    421175 non-null uint8\n",
      "plan_configuration_T-shape                                   421175 non-null uint8\n",
      "plan_configuration_U-shape                                   421175 non-null uint8\n",
      "condition_post_eq_Damaged-Not used                           421175 non-null uint8\n",
      "condition_post_eq_Damaged-Repaired and used                  421175 non-null uint8\n",
      "condition_post_eq_Damaged-Rubble Clear-New building built    421175 non-null uint8\n",
      "condition_post_eq_Damaged-Rubble clear                       421175 non-null uint8\n",
      "condition_post_eq_Damaged-Rubble unclear                     421175 non-null uint8\n",
      "condition_post_eq_Damaged-Used in risk                       421175 non-null uint8\n",
      "condition_post_eq_Not damaged                                421175 non-null uint8\n",
      "dtypes: float64(4), int64(43), object(1), uint8(38)\n",
      "memory usage: 172.7+ MB\n"
     ]
    }
   ],
   "source": [
    "test.info()"
   ]
  },
  {
   "cell_type": "code",
   "execution_count": 63,
   "metadata": {},
   "outputs": [
    {
     "data": {
      "text/plain": [
       "0.0    273041\n",
       "1.0    126212\n",
       "Name: has_repair_started, dtype: int64"
      ]
     },
     "execution_count": 63,
     "metadata": {},
     "output_type": "execute_result"
    }
   ],
   "source": [
    "test['has_repair_started'].value_counts()"
   ]
  },
  {
   "cell_type": "code",
   "execution_count": 64,
   "metadata": {},
   "outputs": [],
   "source": [
    "test['has_repair_started'].fillna(1.0,inplace=True)"
   ]
  },
  {
   "cell_type": "code",
   "execution_count": 65,
   "metadata": {},
   "outputs": [],
   "source": [
    "test1=test.drop('building_id',axis=1)"
   ]
  },
  {
   "cell_type": "code",
   "execution_count": 68,
   "metadata": {},
   "outputs": [],
   "source": [
    "tpredictions=model.predict(test1)"
   ]
  },
  {
   "cell_type": "code",
   "execution_count": 69,
   "metadata": {},
   "outputs": [
    {
     "data": {
      "text/plain": [
       "array([3, 4, 4, ..., 0, 4, 4])"
      ]
     },
     "execution_count": 69,
     "metadata": {},
     "output_type": "execute_result"
    }
   ],
   "source": [
    "tpredictions"
   ]
  },
  {
   "cell_type": "code",
   "execution_count": 70,
   "metadata": {},
   "outputs": [
    {
     "data": {
      "text/plain": [
       "numpy.ndarray"
      ]
     },
     "execution_count": 70,
     "metadata": {},
     "output_type": "execute_result"
    }
   ],
   "source": [
    "type(tpredictions)"
   ]
  },
  {
   "cell_type": "code",
   "execution_count": 71,
   "metadata": {},
   "outputs": [],
   "source": [
    "df1=pd.DataFrame(tpredictions,columns=['damage_grade'])"
   ]
  },
  {
   "cell_type": "code",
   "execution_count": 72,
   "metadata": {},
   "outputs": [],
   "source": [
    "df1['damage_grade'].replace(0,'Grade 1',inplace=True)"
   ]
  },
  {
   "cell_type": "code",
   "execution_count": 73,
   "metadata": {},
   "outputs": [],
   "source": [
    "df1['damage_grade'].replace(1,'Grade 2',inplace=True)\n",
    "df1['damage_grade'].replace(2,'Grade 3',inplace=True)\n",
    "df1['damage_grade'].replace(3,'Grade 4',inplace=True)\n",
    "df1['damage_grade'].replace(4,'Grade 5',inplace=True)"
   ]
  },
  {
   "cell_type": "code",
   "execution_count": 74,
   "metadata": {},
   "outputs": [],
   "source": [
    "df2=pd.DataFrame(test['building_id'],columns=['building_id'])"
   ]
  },
  {
   "cell_type": "code",
   "execution_count": 75,
   "metadata": {},
   "outputs": [
    {
     "data": {
      "text/html": [
       "<div>\n",
       "<style scoped>\n",
       "    .dataframe tbody tr th:only-of-type {\n",
       "        vertical-align: middle;\n",
       "    }\n",
       "\n",
       "    .dataframe tbody tr th {\n",
       "        vertical-align: top;\n",
       "    }\n",
       "\n",
       "    .dataframe thead th {\n",
       "        text-align: right;\n",
       "    }\n",
       "</style>\n",
       "<table border=\"1\" class=\"dataframe\">\n",
       "  <thead>\n",
       "    <tr style=\"text-align: right;\">\n",
       "      <th></th>\n",
       "      <th>building_id</th>\n",
       "      <th>damage_grade</th>\n",
       "    </tr>\n",
       "  </thead>\n",
       "  <tbody>\n",
       "    <tr>\n",
       "      <th>0</th>\n",
       "      <td>a3380c4f75</td>\n",
       "      <td>Grade 4</td>\n",
       "    </tr>\n",
       "    <tr>\n",
       "      <th>1</th>\n",
       "      <td>a338a4e653</td>\n",
       "      <td>Grade 5</td>\n",
       "    </tr>\n",
       "    <tr>\n",
       "      <th>2</th>\n",
       "      <td>a338a4e6b7</td>\n",
       "      <td>Grade 5</td>\n",
       "    </tr>\n",
       "    <tr>\n",
       "      <th>3</th>\n",
       "      <td>a33a6eaa3a</td>\n",
       "      <td>Grade 3</td>\n",
       "    </tr>\n",
       "    <tr>\n",
       "      <th>4</th>\n",
       "      <td>a33b073ff6</td>\n",
       "      <td>Grade 5</td>\n",
       "    </tr>\n",
       "  </tbody>\n",
       "</table>\n",
       "</div>"
      ],
      "text/plain": [
       "  building_id damage_grade\n",
       "0  a3380c4f75      Grade 4\n",
       "1  a338a4e653      Grade 5\n",
       "2  a338a4e6b7      Grade 5\n",
       "3  a33a6eaa3a      Grade 3\n",
       "4  a33b073ff6      Grade 5"
      ]
     },
     "execution_count": 75,
     "metadata": {},
     "output_type": "execute_result"
    }
   ],
   "source": [
    "result = pd.concat([df2,df1],axis=1)\n",
    "result.head()"
   ]
  },
  {
   "cell_type": "code",
   "execution_count": 76,
   "metadata": {},
   "outputs": [],
   "source": [
    "result.to_csv('results1.csv',index=False)"
   ]
  },
  {
   "cell_type": "code",
   "execution_count": null,
   "metadata": {},
   "outputs": [],
   "source": []
  }
 ],
 "metadata": {
  "kernelspec": {
   "display_name": "Python 2",
   "language": "python",
   "name": "python2"
  },
  "language_info": {
   "codemirror_mode": {
    "name": "ipython",
    "version": 2
   },
   "file_extension": ".py",
   "mimetype": "text/x-python",
   "name": "python",
   "nbconvert_exporter": "python",
   "pygments_lexer": "ipython2",
   "version": "2.7.15"
  }
 },
 "nbformat": 4,
 "nbformat_minor": 2
}
